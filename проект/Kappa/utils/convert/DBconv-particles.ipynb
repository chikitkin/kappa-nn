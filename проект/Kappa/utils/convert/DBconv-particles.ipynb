{
 "cells": [
  {
   "cell_type": "code",
   "execution_count": 12,
   "metadata": {
    "collapsed": true
   },
   "outputs": [],
   "source": [
    "import pandas as pd\n",
    "import yaml\n",
    "import numpy as np\n",
    "from collections import OrderedDict"
   ]
  },
  {
   "cell_type": "code",
   "execution_count": 13,
   "metadata": {
    "collapsed": false
   },
   "outputs": [],
   "source": [
    "db = pd.read_excel('../../../DB/DBparticles.xlsx', sheetname=None, skiprows=list(range(9)))"
   ]
  },
  {
   "cell_type": "code",
   "execution_count": 14,
   "metadata": {
    "collapsed": true
   },
   "outputs": [],
   "source": [
    "allowed_columns = ['Particle', 'Mass, kg', 'Diameter, m', 'Parameter ε (Lennard-Jones), J',\n",
    "                   'Dissociation energy, J', 'Formation energy, J', 'Ionization potential, J',\n",
    "                   'No. electronic  level', 'Statistical weight', 'Electronic energy, J',\n",
    "                   'Frequency of vibrations (we), m^-1', 'wexe, m^-1',\n",
    "                   'weye, m^-1', 'weze, m^-1',\n",
    "                   'Be, m^-1', 'ae, m^-1', 'Moment of Inertia, J*s^2', 'Factor of symmetry',\n",
    "                   'Parker (zeta^infty)', 'Charge', 'Reduced oscillator mass',\n",
    "                   'internuclear distance, r_e , m', 'mA/mAB', 'mB/mAB']"
   ]
  },
  {
   "cell_type": "code",
   "execution_count": 15,
   "metadata": {
    "collapsed": true
   },
   "outputs": [],
   "source": [
    "integer_columns = ['Statistical weight', 'No. electronic  level', 'Factor of symmetry', 'Charge',\n",
    "                   'vibrational level']"
   ]
  },
  {
   "cell_type": "code",
   "execution_count": 16,
   "metadata": {
    "collapsed": false
   },
   "outputs": [],
   "source": [
    "def convert_particles_db_to_dict(df):\n",
    "    particles = {}\n",
    "    for particle in df:\n",
    "        res = []\n",
    "        for column in db[particle]:\n",
    "            if column in allowed_columns:\n",
    "                tmp = db[particle][column].dropna().values\n",
    "                if column in integer_columns:\n",
    "                    tmp = np.asarray(tmp, dtype=int)\n",
    "                if tmp.shape[0] == 1:\n",
    "                    res.append([column, tmp.tolist()])\n",
    "                else:\n",
    "                    res.append([column, tmp.tolist()])\n",
    "        particles[particle] = res\n",
    "    return particles"
   ]
  },
  {
   "cell_type": "code",
   "execution_count": 17,
   "metadata": {
    "collapsed": false
   },
   "outputs": [],
   "source": [
    "r = convert_particles_db_to_dict(db)"
   ]
  },
  {
   "cell_type": "code",
   "execution_count": 18,
   "metadata": {
    "collapsed": false
   },
   "outputs": [],
   "source": [
    "with open('../../../DB/particles.yaml', 'w') as f:\n",
    "    for particle in r:\n",
    "        f.write(particle + ':\\n')\n",
    "        for el in r[particle]:\n",
    "            if el[0] != 'Particle':\n",
    "                if len(el[1]) != 0:\n",
    "                    f.write('  ' + el[0] + ': ')\n",
    "                    if len(el[1]) == 1:\n",
    "                        f.write(str(el[1][0]) + '\\n')\n",
    "                    else:\n",
    "                        f.write('[')\n",
    "                        for item in el[1][:-1]:\n",
    "                            f.write(str(item) + ', ')\n",
    "                        f.write(str(el[1][-1]))\n",
    "                        f.write(']\\n')"
   ]
  },
  {
   "cell_type": "code",
   "execution_count": null,
   "metadata": {
    "collapsed": true
   },
   "outputs": [],
   "source": []
  }
 ],
 "metadata": {
  "anaconda-cloud": {},
  "kernelspec": {
   "display_name": "Python [default]",
   "language": "python",
   "name": "python3"
  },
  "language_info": {
   "codemirror_mode": {
    "name": "ipython",
    "version": 3
   },
   "file_extension": ".py",
   "mimetype": "text/x-python",
   "name": "python",
   "nbconvert_exporter": "python",
   "pygments_lexer": "ipython3",
   "version": "3.5.2"
  }
 },
 "nbformat": 4,
 "nbformat_minor": 1
}
