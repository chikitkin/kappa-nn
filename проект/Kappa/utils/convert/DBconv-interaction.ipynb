{
 "cells": [
  {
   "cell_type": "code",
   "execution_count": 1,
   "metadata": {
    "collapsed": true
   },
   "outputs": [],
   "source": [
    "import pandas as pd\n",
    "import yaml\n",
    "import numpy as np\n",
    "from collections import OrderedDict\n",
    "import re"
   ]
  },
  {
   "cell_type": "code",
   "execution_count": 4,
   "metadata": {
    "collapsed": true
   },
   "outputs": [],
   "source": [
    "def isEnglish(s):\n",
    "    try:\n",
    "        s.encode(encoding='utf-8').decode('ascii')\n",
    "    except UnicodeDecodeError:\n",
    "        return False\n",
    "    else:\n",
    "        return True\n",
    "\n",
    "def check_dimension(s):\n",
    "    # if the data contains something like\n",
    "    \"\"\"\n",
    "    if the data contains something like \",nm,\" \", nm,\" \",nm ,\" \" nm \", we remove the columns\n",
    "    \"\"\"\n",
    "    s_l = s.lower()\n",
    "    bad_dimensions_base = ['nm', 'ev', 'angstrom', 'td']  # nanometers, electron volts, angstroms, temperature of diss.\n",
    "    bad_dimensions = []\n",
    "    bad_dimensions_end = []\n",
    "    for bad_dim in bad_dimensions_base:\n",
    "        bad_dimensions.append(',' + bad_dim + ',')\n",
    "        bad_dimensions.append(', ' + bad_dim + ',')\n",
    "        bad_dimensions.append(',' + bad_dim + ' ,')\n",
    "        bad_dimensions.append(' ' + bad_dim + ' ')\n",
    "        bad_dimensions_end.append(',' + bad_dim)\n",
    "        bad_dimensions_end.append(', ' + bad_dim)\n",
    "        bad_dimensions_end.append(' ' + bad_dim)\n",
    "    for d in bad_dimensions:\n",
    "        if d in s_l:\n",
    "            return False\n",
    "    for d in bad_dimensions_end:\n",
    "        if s_l.endswith(d):\n",
    "            return False\n",
    "    return True  # everything is OK\n",
    "\n",
    "def do_not_touch(s):\n",
    "    do_not_touch_cols_bzowski = ['Bzowski, rho* [6]', 'Bzowski, V_0* [6]']\n",
    "    if s in do_not_touch_cols_bzowski:\n",
    "        return (True, s[:-4])\n",
    "    else:\n",
    "        return (False, s)\n",
    "    \n",
    "def get_names(s):\n",
    "    ionized = s.count('+')\n",
    "    if ionized == 1:\n",
    "        return (s.split('+')[0], s.split('+')[1])\n",
    "    if ionized == 2:\n",
    "        if s.endswith('+'):\n",
    "            return (s.split('+')[0], s.split('+')[1]+'+')\n",
    "        else:\n",
    "            return (s.split('+')[0]+'+', s.split('+')[2])\n",
    "    else:\n",
    "        return (s.split('+')[0]+'+', s.split('+')[2]+'+')"
   ]
  },
  {
   "cell_type": "code",
   "execution_count": 65,
   "metadata": {
    "collapsed": false
   },
   "outputs": [
    {
     "name": "stdout",
     "output_type": "stream",
     "text": [
      "55 interactions in DB\n"
     ]
    }
   ],
   "source": [
    "drop_cols = ['diss,O2,Ea,mTM, K [7]', 'diss,N2,Ea,mTM, K [7]']\n",
    "\n",
    "db = pd.read_excel('../../../DB/DBinteraction.xlsx', sheetname=None)\n",
    "db.pop('Interactions', None)\n",
    "for k in db:\n",
    "    db[k].dropna(axis=1, inplace=True)\n",
    "print(len(db), 'interactions in DB')\n",
    "for k in db:\n",
    "    for c in db[k].columns:\n",
    "        dnt = do_not_touch(c)\n",
    "        if dnt[0]:\n",
    "            db[k].rename(columns={c: dnt[1]}, inplace=True)\n",
    "        else:\n",
    "            if not isEnglish(c):\n",
    "                db[k].drop(c, axis=1, inplace=True)\n",
    "                dnt = True\n",
    "            else:\n",
    "                dnt = False\n",
    "            if not dnt:\n",
    "                if not check_dimension(c):\n",
    "                    db[k].drop(c, axis=1, inplace=True)\n",
    "                    dnt = True\n",
    "            if not dnt:\n",
    "                if c in drop_cols:\n",
    "                    db[k].drop(c, axis=1, inplace=True)\n",
    "                    \n",
    "endings_leave = ['Park', 'Scanlon', 'mTM']  # so if a column ends with ',Park [4]', it will be renamed to ',Park'\n",
    "                    \n",
    "for k in db:\n",
    "    cols = []\n",
    "    for c in db[k].columns:\n",
    "        cnew = c\n",
    "        for e_l in endings_leave:\n",
    "            cnew = re.sub(r',' + e_l + '\\s*\\[\\d\\]$', ',' + e_l, cnew)\n",
    "        cnew = re.sub(r',[^,]*\\[\\d\\]$', '', cnew)\n",
    "        cnew = re.sub(r'\\s*\\[\\d\\]$', '', cnew)\n",
    "        cnew = cnew.strip()\n",
    "        db[k].rename(columns={c: cnew}, inplace=True)"
   ]
  },
  {
   "cell_type": "code",
   "execution_count": 66,
   "metadata": {
    "collapsed": false
   },
   "outputs": [],
   "source": [
    "def convert_interactions_db_to_dict():\n",
    "    interactions = {}\n",
    "    for interaction in db:\n",
    "        res = []\n",
    "        for column in db[interaction]:\n",
    "            tmp = db[interaction][column].values\n",
    "            res.append([column, tmp.tolist()])\n",
    "        interactions[get_names(interaction)[0] + ' + ' + get_names(interaction)[1]] = res\n",
    "    return interactions"
   ]
  },
  {
   "cell_type": "code",
   "execution_count": 67,
   "metadata": {
    "collapsed": false
   },
   "outputs": [],
   "source": [
    "r = convert_interactions_db_to_dict()"
   ]
  },
  {
   "cell_type": "code",
   "execution_count": 69,
   "metadata": {
    "collapsed": false
   },
   "outputs": [],
   "source": [
    "with open('../../../DB/interactions_test.yaml', 'w') as f:\n",
    "    for particle in r:\n",
    "        f.write(particle + ':\\n')\n",
    "        for el in r[particle]:\n",
    "            if el[0] != 'Particle':\n",
    "                if len(el[1]) != 0:\n",
    "                    f.write('  ' + el[0] + ': ')\n",
    "                    if len(el[1]) == 1:\n",
    "                        f.write(str(el[1][0]) + '\\n')\n",
    "                    else:\n",
    "                        f.write('[')\n",
    "                        for item in el[1][:-1]:\n",
    "                            f.write(str(item) + ', ')\n",
    "                        f.write(str(el[1][-1]))\n",
    "                        f.write(']\\n')"
   ]
  },
  {
   "cell_type": "code",
   "execution_count": null,
   "metadata": {
    "collapsed": true
   },
   "outputs": [],
   "source": []
  }
 ],
 "metadata": {
  "anaconda-cloud": {},
  "kernelspec": {
   "display_name": "Python [default]",
   "language": "python",
   "name": "python3"
  },
  "language_info": {
   "codemirror_mode": {
    "name": "ipython",
    "version": 3
   },
   "file_extension": ".py",
   "mimetype": "text/x-python",
   "name": "python",
   "nbconvert_exporter": "python",
   "pygments_lexer": "ipython3",
   "version": "3.5.2"
  }
 },
 "nbformat": 4,
 "nbformat_minor": 1
}
